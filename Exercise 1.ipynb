{
  "nbformat": 4,
  "nbformat_minor": 0,
  "metadata": {
    "colab": {
      "name": "Untitled7.ipynb",
      "provenance": []
    },
    "kernelspec": {
      "name": "python3",
      "display_name": "Python 3"
    },
    "language_info": {
      "name": "python"
    }
  },
  "cells": [
    {
      "cell_type": "code",
      "metadata": {
        "id": "9V2W9JCndlCv"
      },
      "source": [
        "print(\"******************************************************************\")\n",
        "name = input(\"| Name:   | \" )\n",
        "print(\"------------------------------------------------------------------\")\n",
        "course = input(\"| Course: | \" )\n",
        "print(\"******************************************************************\")\n",
        "prelimgrade = float(input(\"| Prelim Grade  : \" ))\n",
        "print(\"------------------------------------------------------------------\")\n",
        "midtermgrade = float(input(\"| Midterm Grade : \" ))   \n",
        "print(\"------------------------------------------------------------------\")  \n",
        "finalgrade = float(input(\"| Final Grade   : \"))\n",
        "print(\"******************************************************************\")\n",
        "prelim = prelimgrade*.3\n",
        "midterm = midtermgrade*.3\n",
        "finals = finalgrade*.4 \n",
        "sem_grade = prelim+midterm+finals\n",
        "semgrade = round(sem_grade,2)             \n",
        "print(\"| NAME: {}, SEMESTRAL GRADE:  {} \".format(name, semgrade))\n",
        "print(\"******************************************************************\")"
      ],
      "execution_count": null,
      "outputs": []
    }
  ]
}