{
  "nbformat": 4,
  "nbformat_minor": 0,
  "metadata": {
    "colab": {
      "name": "Untitled5.ipynb",
      "provenance": [],
      "collapsed_sections": []
    },
    "kernelspec": {
      "name": "python3",
      "display_name": "Python 3"
    },
    "language_info": {
      "name": "python"
    }
  },
  "cells": [
    {
      "cell_type": "code",
      "metadata": {
        "id": "rvYE0NRsZJUi"
      },
      "source": [
        "#Intro to Numerical Methods\n",
        "##Demo 1"
      ],
      "execution_count": 1,
      "outputs": []
    },
    {
      "cell_type": "code",
      "metadata": {
        "colab": {
          "base_uri": "https://localhost:8080/"
        },
        "id": "AEYdZIJsZO22",
        "outputId": "b6514a9c-03fd-44cd-9233-eef7adc8fff5"
      },
      "source": [
        "b = \"Sally\"\n",
        "B = 4\n",
        "print(b)"
      ],
      "execution_count": 2,
      "outputs": [
        {
          "output_type": "stream",
          "text": [
            "Sally\n"
          ],
          "name": "stdout"
        }
      ]
    },
    {
      "cell_type": "code",
      "metadata": {
        "colab": {
          "base_uri": "https://localhost:8080/"
        },
        "id": "rCLvlpPYZkbX",
        "outputId": "9ed74dc9-e5e3-436f-ef80-4ec0161cc497"
      },
      "source": [
        "x = \"enjoying\"\n",
        "print(\"python programming is\"+x)"
      ],
      "execution_count": 3,
      "outputs": [
        {
          "output_type": "stream",
          "text": [
            "python programming isenjoying\n"
          ],
          "name": "stdout"
        }
      ]
    },
    {
      "cell_type": "code",
      "metadata": {
        "colab": {
          "base_uri": "https://localhost:8080/"
        },
        "id": "PPCRH36rZwL6",
        "outputId": "e434e9f2-57b4-41c1-e274-767eadcd0c3f"
      },
      "source": [
        "x = 'enjoying'\n",
        "y = 'python programming is'\n",
        "z = y+x\n",
        "print (z)"
      ],
      "execution_count": 4,
      "outputs": [
        {
          "output_type": "stream",
          "text": [
            "python programming isenjoying\n"
          ],
          "name": "stdout"
        }
      ]
    },
    {
      "cell_type": "code",
      "metadata": {
        "colab": {
          "base_uri": "https://localhost:8080/"
        },
        "id": "c1vc4hqNZ91v",
        "outputId": "c1cd7e4d-ac5e-41e1-9c74-857b218d1598"
      },
      "source": [
        "x = 5\n",
        "y = 3\n",
        "sum = x + y\n",
        "sum"
      ],
      "execution_count": 5,
      "outputs": [
        {
          "output_type": "execute_result",
          "data": {
            "text/plain": [
              "8"
            ]
          },
          "metadata": {},
          "execution_count": 5
        }
      ]
    },
    {
      "cell_type": "code",
      "metadata": {
        "colab": {
          "base_uri": "https://localhost:8080/"
        },
        "id": "mWqqlQbjaCYR",
        "outputId": "f8b127c1-1a1d-4f16-a64f-244a782dfb94"
      },
      "source": [
        "x = 5\n",
        "y = 3\n",
        "compare = 5>3\n",
        "print(compare)"
      ],
      "execution_count": 6,
      "outputs": [
        {
          "output_type": "stream",
          "text": [
            "True\n"
          ],
          "name": "stdout"
        }
      ]
    },
    {
      "cell_type": "code",
      "metadata": {
        "colab": {
          "base_uri": "https://localhost:8080/"
        },
        "id": "HhHGwD0waGHV",
        "outputId": "f5a3702b-3348-4252-99c8-af5db8d9a2fc"
      },
      "source": [
        "a,b,c=0,-1,6\n",
        "c%=2\n",
        "print(c)"
      ],
      "execution_count": 7,
      "outputs": [
        {
          "output_type": "stream",
          "text": [
            "0\n"
          ],
          "name": "stdout"
        }
      ]
    },
    {
      "cell_type": "code",
      "metadata": {
        "id": "0U2jnYCycLbv"
      },
      "source": [
        ""
      ],
      "execution_count": null,
      "outputs": []
    }
  ]
}